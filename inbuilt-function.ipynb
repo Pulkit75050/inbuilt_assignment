{
 "cells": [
  {
   "cell_type": "code",
   "execution_count": 2,
   "id": "8ec6ff38-369b-4b15-b972-c44553787488",
   "metadata": {},
   "outputs": [
    {
     "data": {
      "text/plain": [
       "5"
      ]
     },
     "execution_count": 2,
     "metadata": {},
     "output_type": "execute_result"
    }
   ],
   "source": [
    "\"\"\"\n",
    "Q1. What is the purpose of the len() function in Python, and how can it be used with strings?\n",
    "\n",
    "SOL. \n",
    "The len() function in Python serves the purpose of determining the length of an object. When applied to a string, it returns the number of characters in that string.\n",
    "\n",
    "Syntax:\n",
    "The len() function takes an object as its argument and returns an integer representing the length of that object.\n",
    "For strings, it calculates the number of characters.\n",
    "for ex:\n",
    "\"\"\"\n",
    "A = \"Hello\"\n",
    "len(A)"
   ]
  },
  {
   "cell_type": "code",
   "execution_count": 5,
   "id": "d0265277-243f-4471-9f81-2d183dd91d74",
   "metadata": {},
   "outputs": [
    {
     "name": "stdout",
     "output_type": "stream",
     "text": [
      "Hello Everyone\n"
     ]
    }
   ],
   "source": [
    "\"\"\"\n",
    "Q2. How can you concatenate two or more strings in Python, and can you provide an example of string concatenation?\n",
    "\n",
    "SOL.\n",
    "In Python, you can concatenate (combine) two or more strings using various methods. Let’s explore a few ways to achieve string concatenation:\n",
    "\n",
    "1. Using the + Operator: The + operator allows you to append strings together.\n",
    "2. Using the join() Method: The join() method joins elements of a sequence (such as a list) into a single string.\n",
    "\n",
    "For ex:\n",
    "\"\"\"\n",
    "a = \"Hello\"\n",
    "b = \"Everyone\"\n",
    "print(a+\" \"+b)"
   ]
  },
  {
   "cell_type": "code",
   "execution_count": 16,
   "id": "52b68311-d745-4a7f-a27c-7e6c0f5ea192",
   "metadata": {},
   "outputs": [
    {
     "name": "stdout",
     "output_type": "stream",
     "text": [
      "oodaft\n",
      "noon\n"
     ]
    }
   ],
   "source": [
    "\"\"\"\n",
    "Q3.  What is string slicing in Python, and how can you extract a portion of a string using this method?\n",
    "\n",
    "SOL.\n",
    "String slicing in Python allows you to extract a sub-string from a given string by specifying a range of indices.\n",
    "You can obtain a portion of the string by slicing it from the start index up to (but not including) the end index.\n",
    "Syntax: slice(start, stop, step)\n",
    "\"\"\"\n",
    "S = \"Goodafternoon\"\n",
    "s1= slice(1,7,1)\n",
    "print(S[s1])\n",
    "s2 = slice(9,13,1)\n",
    "print(S[s2])"
   ]
  },
  {
   "cell_type": "code",
   "execution_count": 19,
   "id": "6fa9c86f-fa78-4a51-bf23-988eaa5e6e5f",
   "metadata": {},
   "outputs": [
    {
     "name": "stdout",
     "output_type": "stream",
     "text": [
      "pulkitvarshney\n",
      "PULKITVARSHNEY\n"
     ]
    }
   ],
   "source": [
    "\"\"\"\n",
    "Q4. How can you change the case of a string in Python, and can you provide examples of both making a string all uppercase and all lowercase?\n",
    "\n",
    "SOL. \n",
    "In Python, you can change the case of a string using the following methods:\n",
    "\n",
    "1. Making a String All Uppercase: To convert a string to uppercase, use the upper() method.\n",
    "2. Making a String All Lowercase: To convert a string to lowercase, use the lower() method.\n",
    "3. Swapping Case: The swapcase() method swaps the case of each character in the string (uppercase to lowercase and vice versa).\n",
    "\"\"\"\n",
    "name = \"PUlkITvARshNEy\"\n",
    "print(name.lower())\n",
    "print(name.upper())"
   ]
  },
  {
   "cell_type": "code",
   "execution_count": 21,
   "id": "28ba437e-b5e5-4d32-876b-f3ad30be1956",
   "metadata": {},
   "outputs": [
    {
     "name": "stdout",
     "output_type": "stream",
     "text": [
      "['apple', 'bananas', 'orange', 'grapes']\n"
     ]
    }
   ],
   "source": [
    "\"\"\"\n",
    "Q5. What does the split() method do in Python, and how can you split a string using a specific delimiter?\n",
    "\n",
    "SOL.\n",
    "The split() method in Python is used to split a string into a list of substrings.\n",
    "It primarily works by identifying a specified delimiter (such as spaces or other characters) and slicing the string accordingly.\n",
    "The split() method takes one or two arguments: separator and maxsplit (optional).\n",
    "\"\"\"\n",
    "string=\"apple#bananas#orange#grapes\"\n",
    "otherstring= string.split(\"#\",3)\n",
    "print(otherstring)"
   ]
  }
 ],
 "metadata": {
  "kernelspec": {
   "display_name": "Python 3 (ipykernel)",
   "language": "python",
   "name": "python3"
  },
  "language_info": {
   "codemirror_mode": {
    "name": "ipython",
    "version": 3
   },
   "file_extension": ".py",
   "mimetype": "text/x-python",
   "name": "python",
   "nbconvert_exporter": "python",
   "pygments_lexer": "ipython3",
   "version": "3.10.8"
  }
 },
 "nbformat": 4,
 "nbformat_minor": 5
}
